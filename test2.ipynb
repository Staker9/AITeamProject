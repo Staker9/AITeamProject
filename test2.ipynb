{
 "cells": [
  {
   "cell_type": "code",
   "execution_count": null,
   "id": "initial_id",
   "metadata": {
    "collapsed": true
   },
   "outputs": [],
   "source": []
  },
  {
   "cell_type": "code",
   "outputs": [
    {
     "name": "stdout",
     "output_type": "stream",
     "text": [
      "Downloading data from https://storage.googleapis.com/tensorflow/tf-keras-datasets/mnist.npz\n",
      "11493376/11490434 [==============================] - 6s 0us/step\n",
      "Model: \"sequential\"\n",
      "_________________________________________________________________\n",
      "Layer (type)                 Output Shape              Param #   \n",
      "=================================================================\n",
      "conv2d (Conv2D)              (None, 26, 26, 16)        160       \n",
      "_________________________________________________________________\n",
      "max_pooling2d (MaxPooling2D) (None, 13, 13, 16)        0         \n",
      "_________________________________________________________________\n",
      "conv2d_1 (Conv2D)            (None, 11, 11, 32)        4640      \n",
      "_________________________________________________________________\n",
      "max_pooling2d_1 (MaxPooling2 (None, 5, 5, 32)          0         \n",
      "_________________________________________________________________\n",
      "flatten (Flatten)            (None, 800)               0         \n",
      "_________________________________________________________________\n",
      "dense (Dense)                (None, 10)                8010      \n",
      "=================================================================\n",
      "Total params: 12,810\n",
      "Trainable params: 12,810\n",
      "Non-trainable params: 0\n",
      "_________________________________________________________________\n",
      "Train on 60000 samples\n",
      "Epoch 1/12\n",
      "60000/60000 [==============================] - 2s 39us/sample - loss: 0.3532 - accuracy: 0.9057\n",
      "Epoch 2/12\n",
      "60000/60000 [==============================] - 1s 14us/sample - loss: 0.0957 - accuracy: 0.9709\n",
      "Epoch 3/12\n",
      "60000/60000 [==============================] - 1s 14us/sample - loss: 0.0698 - accuracy: 0.9792\n",
      "Epoch 4/12\n",
      "60000/60000 [==============================] - 1s 15us/sample - loss: 0.0583 - accuracy: 0.9823\n",
      "Epoch 5/12\n",
      "60000/60000 [==============================] - 1s 14us/sample - loss: 0.0514 - accuracy: 0.9847\n",
      "Epoch 6/12\n",
      "60000/60000 [==============================] - 1s 14us/sample - loss: 0.0463 - accuracy: 0.9858\n",
      "Epoch 7/12\n",
      "60000/60000 [==============================] - 1s 14us/sample - loss: 0.0402 - accuracy: 0.9882\n",
      "Epoch 8/12\n",
      "60000/60000 [==============================] - 1s 14us/sample - loss: 0.0382 - accuracy: 0.9883\n",
      "Epoch 9/12\n",
      "60000/60000 [==============================] - 1s 14us/sample - loss: 0.0341 - accuracy: 0.9895\n",
      "Epoch 10/12\n",
      "60000/60000 [==============================] - 1s 14us/sample - loss: 0.0309 - accuracy: 0.9908\n",
      "Epoch 11/12\n",
      "60000/60000 [==============================] - 1s 14us/sample - loss: 0.0287 - accuracy: 0.9912\n",
      "Epoch 12/12\n",
      "60000/60000 [==============================] - 1s 14us/sample - loss: 0.0270 - accuracy: 0.9914\n",
      "index:  4749 actual y:  5 predicted y:  5\n",
      "index:  4849 actual y:  8 predicted y:  8\n",
      "index:  4624 actual y:  7 predicted y:  7\n",
      "index:  2365 actual y:  7 predicted y:  7\n",
      "index:  5589 actual y:  8 predicted y:  8\n",
      "index:  9615 actual y:  4 predicted y:  4\n",
      "index:  1057 actual y:  4 predicted y:  4\n",
      "index:  1752 actual y:  5 predicted y:  5\n",
      "index:  48 actual y:  4 predicted y:  4\n",
      "index:  4233 actual y:  5 predicted y:  5\n",
      "10000/10000 [==============================] - 0s 25us/sample - loss: 0.0346 - accuracy: 0.9883\n",
      "loss:  0.034600421149632896\n",
      "accuracy 0.9883\n"
     ]
    }
   ],
   "source": [
    "# Lab 11 MNIST and Convolutional Neural Network\n",
    "import numpy as np\n",
    "import tensorflow as tf\n",
    "import random\n",
    "\n",
    "mnist = tf.keras.datasets.mnist\n",
    "\n",
    "(x_train, y_train), (x_test, y_test) = mnist.load_data()\n",
    "# x = 0~1\n",
    "x_test = x_test / 255\n",
    "x_train = x_train / 255\n",
    "x_train = x_train.reshape(x_train.shape[0], 28, 28, 1)\n",
    "x_test = x_test.reshape(x_test.shape[0], 28, 28, 1)\n",
    "\n",
    "# one hot encode y data\n",
    "y_train = tf.keras.utils.to_categorical(y_train, 10)\n",
    "y_test = tf.keras.utils.to_categorical(y_test, 10)\n",
    "\n",
    "# hyper parameters\n",
    "learning_rate = 0.001\n",
    "training_epochs = 12\n",
    "batch_size = 128\n",
    "\n",
    "tf.model = tf.keras.Sequential()\n",
    "# L1 Conv2D, filter(3, 3) ReLU\n",
    "tf.model.add(tf.keras.layers.Conv2D(filters=16, kernel_size=(3, 3), input_shape=(28, 28, 1), activation='relu'))\n",
    "tf.model.add(tf.keras.layers.MaxPooling2D(pool_size=(2, 2)))\n",
    "\n",
    "# L2\n",
    "tf.model.add(tf.keras.layers.Conv2D(filters=32, kernel_size=(3, 3), activation='relu'))\n",
    "tf.model.add(tf.keras.layers.MaxPooling2D(pool_size=(2, 2)))\n",
    "\n",
    "# L3 fully connected\n",
    "tf.model.add(tf.keras.layers.Flatten())\n",
    "tf.model.add(tf.keras.layers.Dense(units=10, kernel_initializer='glorot_normal', activation='softmax'))\n",
    "\n",
    "tf.model.compile(loss='categorical_crossentropy', optimizer=tf.keras.optimizers.Adam(lr=learning_rate), metrics=['accuracy'])\n",
    "tf.model.summary()\n",
    "\n",
    "tf.model.fit(x_train, y_train, batch_size=batch_size, epochs=training_epochs)\n",
    "\n",
    "# predict 10 random hand-writing data\n",
    "y_predicted = tf.model.predict(x_test)\n",
    "for x in range(0, 10):\n",
    "    random_index = random.randint(0, x_test.shape[0]-1)\n",
    "    print(\"index: \", random_index,\n",
    "          \"actual y: \", np.argmax(y_test[random_index]),\n",
    "          \"predicted y: \", np.argmax(y_predicted[random_index]))\n",
    "\n",
    "evaluation = tf.model.evaluate(x_test, y_test)\n",
    "print('loss: ', evaluation[0])\n",
    "print('accuracy', evaluation[1])"
   ],
   "metadata": {
    "collapsed": false,
    "ExecuteTime": {
     "end_time": "2024-03-15T03:31:22.930388Z",
     "start_time": "2024-03-15T03:31:01.390578Z"
    }
   },
   "id": "df879dbad9a53724",
   "execution_count": 1
  },
  {
   "cell_type": "code",
   "outputs": [],
   "source": [],
   "metadata": {
    "collapsed": false
   },
   "id": "694744307103bf15"
  }
 ],
 "metadata": {
  "kernelspec": {
   "display_name": "Python 3",
   "language": "python",
   "name": "python3"
  },
  "language_info": {
   "codemirror_mode": {
    "name": "ipython",
    "version": 2
   },
   "file_extension": ".py",
   "mimetype": "text/x-python",
   "name": "python",
   "nbconvert_exporter": "python",
   "pygments_lexer": "ipython2",
   "version": "2.7.6"
  }
 },
 "nbformat": 4,
 "nbformat_minor": 5
}
