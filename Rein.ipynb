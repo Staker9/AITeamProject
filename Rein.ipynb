{
 "cells": [
  {
   "cell_type": "code",
   "execution_count": 50,
   "id": "initial_id",
   "metadata": {
    "collapsed": true,
    "ExecuteTime": {
     "end_time": "2024-03-18T09:21:51.171595Z",
     "start_time": "2024-03-18T09:21:51.149616Z"
    }
   },
   "outputs": [
    {
     "name": "stdout",
     "output_type": "stream",
     "text": [
      "Safe            Pit            Br            Br\n",
      "Wumpus            Br,S            Br            Pit\n",
      "S            None            None            Br,G\n",
      "None            None            G            Gold\n"
     ]
    }
   ],
   "source": [
    "import numpy as np\n",
    "\n",
    "class GridWorld:\n",
    "    def __init__(self):\n",
    "        self.grid_size = 4\n",
    "        # 각 셀을 리스트로 초기화\n",
    "        self.grid = [[[] for _ in range(self.grid_size)] for _ in range(self.grid_size)]\n",
    "\n",
    "    def setup_grid(self):\n",
    "        # (0,0)은 항상 안전하므로 먼저 'Safe'로 설정\n",
    "        self.grid[0][0].append('Safe')\n",
    "\n",
    "        for i in range(self.grid_size):\n",
    "            for j in range(self.grid_size):\n",
    "                # (0,0)은 'Safe'로 이미 설정되었으므로 여기에는 'Pit'이나 'Wumpus'를 추가하지 않음\n",
    "                if (i, j) != (0, 0) and (i,j) != (3,3):\n",
    "                    if np.random.rand() < 0.1:\n",
    "                        self.grid[i][j].append('Pit')\n",
    "                        # Pit 주변에 'B' 배치, 'Safe' 주변은 제외\n",
    "                        for x, y in [(i-1, j), (i+1, j), (i, j-1), (i, j+1)]:\n",
    "                            if 0 <= x < self.grid_size and 0 <= y < self.grid_size and (x, y) != (0, 0):\n",
    "                                self.grid[x][y].append('Br')\n",
    "                    if np.random.rand() < 0.1:\n",
    "                        self.grid[i][j].append('Wumpus')\n",
    "                        # Wumpus 주변에 'S' 배치, 'Safe' 주변은 제외\n",
    "                        for x, y in [(i-1, j), (i+1, j), (i, j-1), (i, j+1)]:\n",
    "                            if 0 <= x < self.grid_size and 0 <= y < self.grid_size and (x, y) != (0, 0):\n",
    "                                self.grid[x][y].append('S')\n",
    "\n",
    "        # 금 위치 설정\n",
    "        gold_x, gold_y = (3, 3)\n",
    "        self.grid[gold_x][gold_y].append('Gold')\n",
    "        # Gold 주위에 G 설정\n",
    "        self.grid[gold_x-1][gold_y].append('G')\n",
    "        self.grid[gold_x][gold_y-1].append('G')\n",
    "        \n",
    "        # for i in range(self.grid_size):\n",
    "        #     self.grid[i][0].append('B')  # 왼쪽 테두리\n",
    "        #     self.grid[i][self.grid_size-1].append('B')  # 오른쪽 테두리\n",
    "        # for j in range(self.grid_size):\n",
    "        #     self.grid[0][j].append('B')  # 상단 테두리\n",
    "        #     self.grid[self.grid_size-1][j].append('B')  # 하단 테두리\n",
    "\n",
    "    def print_grid(self):\n",
    "        for row in self.grid:\n",
    "            row_str = []\n",
    "            for cell in row:\n",
    "                if not cell:  # 셀이 비어있으면 'None'으로 표시\n",
    "                    row_str.append('None')\n",
    "                else:\n",
    "                    # 셀에 여러 요소가 있으면 쉼표로 구분하여 표시\n",
    "                    row_str.append(','.join(cell))\n",
    "            print('            '.join(row_str))\n",
    "\n",
    "# 인스턴스 생성 및 그리드 설정\n",
    "world = GridWorld()\n",
    "world.setup_grid()\n",
    "# 맵 출력\n",
    "world.print_grid()\n"
   ]
  },
  {
   "cell_type": "code",
   "outputs": [],
   "source": [],
   "metadata": {
    "collapsed": false,
    "ExecuteTime": {
     "end_time": "2024-03-18T08:56:23.108132Z",
     "start_time": "2024-03-18T08:56:23.092834Z"
    }
   },
   "id": "2b8c8c8402e9ad06",
   "execution_count": 21
  },
  {
   "cell_type": "code",
   "outputs": [],
   "source": [],
   "metadata": {
    "collapsed": false
   },
   "id": "dd1746cd05bcc8c5"
  }
 ],
 "metadata": {
  "kernelspec": {
   "display_name": "Python 3",
   "language": "python",
   "name": "python3"
  },
  "language_info": {
   "codemirror_mode": {
    "name": "ipython",
    "version": 2
   },
   "file_extension": ".py",
   "mimetype": "text/x-python",
   "name": "python",
   "nbconvert_exporter": "python",
   "pygments_lexer": "ipython2",
   "version": "2.7.6"
  }
 },
 "nbformat": 4,
 "nbformat_minor": 5
}
