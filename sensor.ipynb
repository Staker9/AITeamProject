{
 "cells": [
  {
   "cell_type": "code",
   "execution_count": null,
   "id": "initial_id",
   "metadata": {
    "collapsed": true,
    "is_executing": true
   },
   "outputs": [],
   "source": [
    "# sensor.py 파일\n",
    "\n",
    "def add_breeze(grid, x, y, grid_size):\n",
    "    for i, j in [(x-1, y), (x+1, y), (x, y-1), (x, y+1)]:\n",
    "        if 0 <= i < grid_size and 0 <= j < grid_size:\n",
    "            grid[i][j].append('Br')\n",
    "\n",
    "def add_glitter(grid, x, y):\n",
    "    grid[x][y].append('G')\n",
    "\n",
    "def add_stench(grid, x, y, grid_size):\n",
    "    for i, j in [(x-1, y), (x+1, y), (x, y-1), (x, y+1)]:\n",
    "        if 0 <= i < grid_size and 0 <= j < grid_size:\n",
    "            grid[i][j].append('S')\n"
   ]
  },
  {
   "cell_type": "code",
   "outputs": [],
   "source": [],
   "metadata": {
    "collapsed": false
   },
   "id": "f8a363e343d1b923"
  }
 ],
 "metadata": {
  "kernelspec": {
   "display_name": "Python 3",
   "language": "python",
   "name": "python3"
  },
  "language_info": {
   "codemirror_mode": {
    "name": "ipython",
    "version": 2
   },
   "file_extension": ".py",
   "mimetype": "text/x-python",
   "name": "python",
   "nbconvert_exporter": "python",
   "pygments_lexer": "ipython2",
   "version": "2.7.6"
  }
 },
 "nbformat": 4,
 "nbformat_minor": 5
}
