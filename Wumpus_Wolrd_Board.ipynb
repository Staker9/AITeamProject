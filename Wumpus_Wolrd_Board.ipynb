{
 "cells": [
  {
   "cell_type": "code",
   "execution_count": 12,
   "id": "initial_id",
   "metadata": {
    "collapsed": true,
    "ExecuteTime": {
     "end_time": "2024-03-21T08:00:50.999873Z",
     "start_time": "2024-03-21T08:00:50.978332Z"
    }
   },
   "outputs": [
    {
     "ename": "ModuleNotFoundError",
     "evalue": "No module named 'sensor'",
     "output_type": "error",
     "traceback": [
      "\u001B[1;31m---------------------------------------------------------------------------\u001B[0m",
      "\u001B[1;31mModuleNotFoundError\u001B[0m                       Traceback (most recent call last)",
      "\u001B[1;32m<ipython-input-12-34b0191ba5eb>\u001B[0m in \u001B[0;36m<module>\u001B[1;34m\u001B[0m\n\u001B[0;32m      1\u001B[0m \u001B[1;31m# 주어진 코드와 같은 파일 내에 이 코드를 추가하거나 별도의 파일로 분리할 수 있습니다.\u001B[0m\u001B[1;33m\u001B[0m\u001B[1;33m\u001B[0m\u001B[0m\n\u001B[0;32m      2\u001B[0m \u001B[1;31m# sensor.py 모듈을 임포트합니다.\u001B[0m\u001B[1;33m\u001B[0m\u001B[1;33m\u001B[0m\u001B[0m\n\u001B[1;32m----> 3\u001B[1;33m \u001B[1;32mfrom\u001B[0m \u001B[0msensor\u001B[0m \u001B[1;32mimport\u001B[0m \u001B[0madd_breeze\u001B[0m\u001B[1;33m,\u001B[0m \u001B[0madd_glitter\u001B[0m\u001B[1;33m,\u001B[0m \u001B[0madd_stench\u001B[0m\u001B[1;33m\u001B[0m\u001B[0m\n\u001B[0m\u001B[0;32m      4\u001B[0m \u001B[1;32mimport\u001B[0m \u001B[0mnumpy\u001B[0m \u001B[1;32mas\u001B[0m \u001B[0mnp\u001B[0m\u001B[1;33m\u001B[0m\u001B[0m\n\u001B[0;32m      5\u001B[0m \u001B[1;33m\u001B[0m\u001B[0m\n",
      "\u001B[1;31mModuleNotFoundError\u001B[0m: No module named 'sensor'"
     ]
    }
   ],
   "source": [
    "# 주어진 코드와 같은 파일 내에 이 코드를 추가하거나 별도의 파일로 분리할 수 있습니다.\n",
    "# sensor.py 모듈을 임포트합니다.\n",
    "from sensor import add_breeze, add_glitter, add_stench\n",
    "import numpy as np\n",
    "\n",
    "class GridWorld:\n",
    "    \n",
    "    def __init__(self):\n",
    "        self.grid_size = 4\n",
    "        self.grid = [[[] for _ in range(self.grid_size)] for _ in range(self.grid_size)]\n",
    "\n",
    "    def setup_grid(self):\n",
    "        self.grid[0][0].append('Safe')\n",
    "\n",
    "        for i in range(self.grid_size):\n",
    "            for j in range(self.grid_size):\n",
    "                if (i, j) != (0, 0) and (i,j) != (3,3):\n",
    "                    if np.random.rand() < 0.1:\n",
    "                        self.grid[i][j].append('Pit')\n",
    "                        add_breeze(self.grid, i, j, self.grid_size)\n",
    "                    if np.random.rand() < 0.1:\n",
    "                        self.grid[i][j].append('Wumpus')\n",
    "                        add_stench(self.grid, i, j, self.grid_size)\n",
    "\n",
    "        # 금 위치 설정 및 Glitter 추가\n",
    "        gold_x, gold_y = (3, 3)\n",
    "        self.grid[gold_x][gold_y].append('Gold')\n",
    "        add_glitter(self.grid, gold_x-1, gold_y)\n",
    "        add_glitter(self.grid, gold_x, gold_y-1)\n",
    "\n",
    "    def print_grid(self):\n",
    "        # print_grid 함수 내용은 동일하므로 생략\n",
    "        pass\n"
   ]
  },
  {
   "cell_type": "code",
   "outputs": [],
   "source": [],
   "metadata": {
    "collapsed": false
   },
   "id": "e48a3038c051c5de"
  }
 ],
 "metadata": {
  "kernelspec": {
   "display_name": "Python 3",
   "language": "python",
   "name": "python3"
  },
  "language_info": {
   "codemirror_mode": {
    "name": "ipython",
    "version": 2
   },
   "file_extension": ".py",
   "mimetype": "text/x-python",
   "name": "python",
   "nbconvert_exporter": "python",
   "pygments_lexer": "ipython2",
   "version": "2.7.6"
  }
 },
 "nbformat": 4,
 "nbformat_minor": 5
}
